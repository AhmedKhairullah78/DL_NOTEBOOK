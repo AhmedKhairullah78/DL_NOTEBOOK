{
 "cells": [
  {
   "cell_type": "code",
   "execution_count": 7,
   "metadata": {},
   "outputs": [
    {
     "name": "stdout",
     "output_type": "stream",
     "text": [
      "True\n"
     ]
    }
   ],
   "source": [
    "\n",
    "import cv2\n",
    "i=0\n",
    "count=0\n",
    "cap=cv2.VideoCapture('20221125_151038.mp4') # path of video\n",
    "print(cap.isOpened())\n",
    "while cap.isOpened() :\n",
    "    \n",
    "    ret,frame =cap.read()\n",
    "    if ret == False :\n",
    "        break\n",
    "\n",
    "    #frame=cv2.resize(frame,(1280,1280),interpolation=cv2.INTER_CUBIC)\n",
    "    \n",
    "    if count % 8 == 0 :\n",
    "        cv2.imwrite(f'D:/project_data/New folder/New folder/{i}khairullah.png',frame)\n",
    "        i = i + 1\n",
    "    count = count + 1\n",
    "\n",
    "    cv2.imshow('frame',frame)\n",
    "    if cv2.waitKey(1) == ord('q'):\n",
    "        break\n",
    "cap.release()\n",
    "cv2.destroyAllWindows()"
   ]
  },
  {
   "cell_type": "code",
   "execution_count": 4,
   "metadata": {},
   "outputs": [
    {
     "name": "stdout",
     "output_type": "stream",
     "text": [
      "False\n"
     ]
    }
   ],
   "source": [
    "import cv2\n",
    "faceCascade = cv2.CascadeClassifier('haarcascade_frontalface_default.xml')\n",
    "i=0\n",
    "count=0\n",
    "cap=cv2.VideoCapture('20221125_014441.mp4') # path of video\n",
    "print(cap.isOpened())\n",
    "while cap.isOpened() :\n",
    "    \n",
    "    ret,frame =cap.read()\n",
    "    if ret == False :\n",
    "        break\n",
    "    faces = faceCascade.detectMultiScale(frame,\n",
    "                                         scaleFactor=1.1,\n",
    "                                         minNeighbors=5,\n",
    "                                         minSize=(60, 60),\n",
    "                                         flags=cv2.CASCADE_SCALE_IMAGE)\n",
    "    for (x,y,w,h) in faces:\n",
    "       # cv2.rectangle(frame, (x, y-10), (x + w, y + h),(0,255,0), 2)\n",
    "        facc = frame[y-10:y + h, x:x + w]\n",
    "        \n",
    "    #frame=cv2.resize(frame,(1280,1280),interpolation=cv2.INTER_CUBIC)\n",
    "        \n",
    "        if count % 8 == 0 :\n",
    "            cv2.imwrite(f'E:/machine learning/6- computer vision(ML)/111111/aks/ahmed_khairullah/khairullah{i}.png',facc)\n",
    "            i = i + 1\n",
    "        count = count + 1\n",
    "    \n",
    "    \n",
    "    cv2.imshow('frame',frame)\n",
    "    if cv2.waitKey(1) == ord('q'):\n",
    "        break\n",
    "cap.release()\n",
    "cv2.destroyAllWindows()"
   ]
  },
  {
   "cell_type": "code",
   "execution_count": null,
   "metadata": {},
   "outputs": [],
   "source": []
  }
 ],
 "metadata": {
  "kernelspec": {
   "display_name": "Python 3",
   "language": "python",
   "name": "python3"
  },
  "language_info": {
   "codemirror_mode": {
    "name": "ipython",
    "version": 3
   },
   "file_extension": ".py",
   "mimetype": "text/x-python",
   "name": "python",
   "nbconvert_exporter": "python",
   "pygments_lexer": "ipython3",
   "version": "3.8.3"
  }
 },
 "nbformat": 4,
 "nbformat_minor": 5
}
